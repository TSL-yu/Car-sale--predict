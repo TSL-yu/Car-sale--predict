{
 "cells": [
  {
   "cell_type": "code",
   "execution_count": 1,
   "metadata": {},
   "outputs": [
    {
     "name": "stderr",
     "output_type": "stream",
     "text": [
      "/usr/local/lib/python3.5/dist-packages/sklearn/cross_validation.py:41: DeprecationWarning: This module was deprecated in version 0.18 in favor of the model_selection module into which all the refactored classes and functions are moved. Also note that the interface of the new CV iterators are different from that of this module. This module will be removed in 0.20.\n",
      "  \"This module will be removed in 0.20.\", DeprecationWarning)\n"
     ]
    }
   ],
   "source": [
    "import pandas as pd\n",
    "import imblearn\n",
    "import numpy as np\n",
    "import traceback\n",
    "pd.set_option('display.max_rows', 20,'max_info_columns', 9999,'display.max_columns', 9999)\n",
    "import matplotlib.pyplot as plt\n",
    "import copy\n",
    "%matplotlib inline\n",
    "import seaborn as sns\n",
    "from sklearn import preprocessing \n",
    "import datetime as dt\n",
    "import gc\n",
    "from sklearn import svm,linear_model\n",
    "from collections import Counter\n",
    "from sklearn.model_selection import train_test_split\n",
    "import csv\n",
    "import xgboost as xgb\n",
    "import lightgbm as lgb\n",
    "from sklearn.model_selection import GridSearchCV\n",
    "from sklearn.preprocessing import OneHotEncoder,Imputer\n",
    "\n",
    "from sklearn.ensemble import RandomForestRegressor\n",
    "from sklearn.kernel_ridge import KernelRidge\n",
    "from sklearn import neighbors\n",
    "from sklearn.preprocessing import scale\n",
    "from sklearn.model_selection import StratifiedKFold\n",
    "\n",
    "\n",
    "from sklearn.feature_selection import RFE \n",
    "from sklearn.preprocessing import StandardScaler\n",
    "from sklearn.model_selection import KFold\n",
    "from sklearn.model_selection import RandomizedSearchCV\n",
    "from sklearn.cross_validation import  cross_val_score\n",
    "from sklearn.preprocessing import LabelEncoder\n",
    "import warnings\n",
    "import xlrd\n",
    "warnings.filterwarnings('ignore')"
   ]
  },
  {
   "cell_type": "code",
   "execution_count": 2,
   "metadata": {},
   "outputs": [],
   "source": [
    "train=pd.read_csv('/home/tsl-yu/文档/天池-盐城-乘用车零售销量/[new] yancheng_train_20171226.csv')\n",
    "\n",
    "test=pd.read_csv('/home/tsl-yu/文档/天池-盐城-乘用车零售销量/yancheng_testA_20171225.csv')"
   ]
  },
  {
   "cell_type": "markdown",
   "metadata": {},
   "source": [
    "## 以日期为划分标准，划分数据 "
   ]
  },
  {
   "cell_type": "code",
   "execution_count": 3,
   "metadata": {},
   "outputs": [],
   "source": [
    "def split_data(df):\n",
    "    l=[]\n",
    "    for i,data in df.groupby('sale_date'):\n",
    "        l.append(data)\n",
    "        \n",
    "    return l"
   ]
  },
  {
   "cell_type": "code",
   "execution_count": null,
   "metadata": {},
   "outputs": [],
   "source": []
  },
  {
   "cell_type": "markdown",
   "metadata": {},
   "source": [
    "## 对象类型处理 "
   ]
  },
  {
   "cell_type": "code",
   "execution_count": 4,
   "metadata": {},
   "outputs": [],
   "source": [
    "def handle_object(ddf):\n",
    "    df=copy.copy(ddf)\n",
    "    en=LabelEncoder()\n",
    "    df['level_id']=en.fit_transform(train['level_id'])\n",
    "    \n",
    "    df['TR']=df['TR'].replace({'8;7':7.5,'5;4':4.5}).astype(float)\n",
    "    \n",
    "    df['gearbox_type']=en.fit_transform(train['gearbox_type'])\n",
    "    \n",
    "    df['if_charging']=en.fit_transform(train['if_charging'])\n",
    "    \n",
    "    dict_price_l={'20-25W':22.5, '25-35W':30, '15-20W':17.5, '5-8W':6.5,\n",
    "                  '35-50W':42.5, '8-10W':9, '10-15W':12.5, '50-75W':62.5, '5WL':5}\n",
    "    df['price_level']=df['price_level'].map(dict_price_l)\n",
    "    \n",
    "    \n",
    "    df['price']=df['price'].replace({'-':None}).astype(float)\n",
    "    \n",
    "    df['fuel_type_id']=df['fuel_type_id'].replace({'-':None}).astype(float)\n",
    "    \n",
    "    df['power']=df['power'].replace({'-':None,'81/70':81}).astype(float)\n",
    "    \n",
    "    df['engine_torque']=df['engine_torque'].replace({'-':None,'155/140':155}).astype(float)\n",
    "    \n",
    "    dict_rated_p={'6-7':6.5, '9':9, '5':5, '5-7':6, '4-5':4.5, '4':4, '7-8':7.5, '5-8':6.5, '7':7, '6-8':6.5}\n",
    "    \n",
    "    df['rated_passenger']=df['rated_passenger'].map(dict_rated_p)\n",
    "    \n",
    "    return df"
   ]
  },
  {
   "cell_type": "code",
   "execution_count": null,
   "metadata": {},
   "outputs": [],
   "source": []
  },
  {
   "cell_type": "markdown",
   "metadata": {},
   "source": [
    "## 返回需要处理的列，以及该列对应的元素种类 "
   ]
  },
  {
   "cell_type": "code",
   "execution_count": 5,
   "metadata": {},
   "outputs": [],
   "source": [
    "def col_and_set(df):\n",
    "    l=[]\n",
    "    col=[]\n",
    "    for c in df.columns:\n",
    "        if(len(set(df[c]))<40):\n",
    "            col.append((str(c),list(set(df[c]))))\n",
    "                                    \n",
    "    return col"
   ]
  },
  {
   "cell_type": "markdown",
   "metadata": {},
   "source": [
    "## 根据需要处理的列，产生特征 "
   ]
  },
  {
   "cell_type": "code",
   "execution_count": 6,
   "metadata": {},
   "outputs": [],
   "source": [
    "def frequency_feature(ddf,col):\n",
    "    df=copy.copy(ddf)\n",
    "    l=[]\n",
    "    for idd,data in df.groupby('class_id'):\n",
    "        d={}\n",
    "        d['class_id']=idd\n",
    "        d['num']=sum(data['sale_quantity'])\n",
    "        for c in col:\n",
    "            for i,a in enumerate(c[1]):\n",
    "                d[c[0]+'_'+str(a)]=sum(data[c[0]]==a)\n",
    "                \n",
    "        l.append(d)\n",
    "    return pd.DataFrame(l)"
   ]
  },
  {
   "cell_type": "code",
   "execution_count": null,
   "metadata": {},
   "outputs": [],
   "source": []
  },
  {
   "cell_type": "markdown",
   "metadata": {},
   "source": [
    "##  产生label"
   ]
  },
  {
   "cell_type": "code",
   "execution_count": 7,
   "metadata": {},
   "outputs": [],
   "source": [
    "def produce_label(ddf):\n",
    "    df=copy.copy(ddf)\n",
    "    l=[]\n",
    "    for idd,data in df.groupby('class_id'):\n",
    "        d={}\n",
    "        d['class_id']=idd\n",
    "        d['num']=sum(data['sale_quantity'])\n",
    "        \n",
    "                \n",
    "        l.append(d)\n",
    "    return pd.DataFrame(l)"
   ]
  },
  {
   "cell_type": "markdown",
   "metadata": {},
   "source": [
    "##  产生划窗序列特征，以及标签"
   ]
  },
  {
   "cell_type": "code",
   "execution_count": 8,
   "metadata": {},
   "outputs": [],
   "source": [
    "def split_window(ll,m=3,g=1): #    其中l为输入序列，m为一组数据的月份数量，g为划窗时的间隔\n",
    "    l=copy.copy(ll)\n",
    "    n=len(l)\n",
    "    \n",
    "    l_d=[]\n",
    "\n",
    "    \n",
    "    for i in range(int((n-m-1)/g)+1):\n",
    "        a=l[g*i]\n",
    "        for k in range(m-1):\n",
    "            pl=copy.copy(l[g*i+k+1])\n",
    "            pl.columns=pl.columns+'_'+str(k)\n",
    "            pl=pl.rename(columns={'class_id_'+str(k):'class_id'})\n",
    "            a=pd.merge(a,pl,on='class_id',how='outer',sort=False)\n",
    "\n",
    "            \n",
    "        b=copy.copy(l[g*i+m][['class_id','num']])\n",
    "        b.columns=['class_id','label']\n",
    "        \n",
    "        a=pd.merge(a,b,on='class_id',how='inner',sort=False)\n",
    "        \n",
    "        l_d.append(a)\n",
    "\n",
    "    dd=l[-m]\n",
    "    for i in range(m-1):\n",
    "        pl=copy.copy(l[-(m-(i+1))])\n",
    "        pl.columns=pl.columns+'_'+str(i)\n",
    "        pl=pl.rename(columns={'class_id_'+str(i):'class_id'})\n",
    "        dd=pd.merge(dd,pl,on='class_id',how='outer',sort=False)\n",
    "    return l_d,dd\n"
   ]
  },
  {
   "cell_type": "markdown",
   "metadata": {},
   "source": [
    "##  合并列表，产生训练集 "
   ]
  },
  {
   "cell_type": "code",
   "execution_count": 9,
   "metadata": {},
   "outputs": [],
   "source": [
    "def merge(l):\n",
    "    ll=copy.copy(l)\n",
    "    out=ll[0]\n",
    "    for i in range(1,len(ll)):\n",
    "        out=pd.concat([out,ll[i]],axis=0)\n",
    "        \n",
    "    return out"
   ]
  },
  {
   "cell_type": "markdown",
   "metadata": {},
   "source": [
    "## 对num产生rank特征 "
   ]
  },
  {
   "cell_type": "code",
   "execution_count": 10,
   "metadata": {},
   "outputs": [],
   "source": [
    "def num_rank(ddf):\n",
    "    df=copy.copy(ddf)\n",
    "    col=list(df.columns)\n",
    "    l=[b.startswith('num') for b in col ]\n",
    "    \n",
    "    for c in list(df.columns[l]):\n",
    "        df['rank_'+c]=df[c].rank(method='max')\n",
    "        \n",
    "    return df"
   ]
  },
  {
   "cell_type": "code",
   "execution_count": null,
   "metadata": {},
   "outputs": [],
   "source": []
  },
  {
   "cell_type": "markdown",
   "metadata": {},
   "source": [
    "## 统计特征  max min average"
   ]
  },
  {
   "cell_type": "code",
   "execution_count": 11,
   "metadata": {},
   "outputs": [],
   "source": [
    "def num_sta(ddf):\n",
    "    df=copy.copy(ddf)\n",
    "    col=list(df.columns)\n",
    "    l=[b.startswith('num') for b in col ]\n",
    "    \n",
    "    df['min_num']=np.min(df[df.columns[l]],axis=1)\n",
    "    #df['max_num']=np.max(df[df.columns[l]],axis=1)\n",
    "    #df['ave_num']=np.mean(df[df.columns[l]],axis=1)\n",
    "    return df"
   ]
  },
  {
   "cell_type": "code",
   "execution_count": null,
   "metadata": {},
   "outputs": [],
   "source": []
  },
  {
   "cell_type": "markdown",
   "metadata": {},
   "source": [
    "##  去掉空值超过0.7的函数"
   ]
  },
  {
   "cell_type": "code",
   "execution_count": 12,
   "metadata": {},
   "outputs": [],
   "source": [
    "def drop_null(ddf):\n",
    "    df=copy.copy(ddf)\n",
    "    for col in df.columns:\n",
    "        a=df[col].isnull().sum()\n",
    "        if a>len(df[col])*0.7:\n",
    "            df=df.drop(col,axis=1)\n",
    "            \n",
    "    return df"
   ]
  },
  {
   "cell_type": "markdown",
   "metadata": {},
   "source": [
    "## 交叉验证函数 "
   ]
  },
  {
   "cell_type": "code",
   "execution_count": 13,
   "metadata": {},
   "outputs": [],
   "source": [
    "def cv_function(model,train,label,test,n=10):\n",
    "    try:\n",
    "        kf = KFold(n_splits=n,shuffle=True)\n",
    "        l=[]\n",
    "        \n",
    "        err=[]\n",
    "        if type(train)==pd.DataFrame:\n",
    "            train=train.fillna(-999).values\n",
    "        \n",
    "        if type(label)==pd.core.series.Series:\n",
    "            label=label.values\n",
    "    \n",
    "        for tr_index,te in kf.split(train,label):\n",
    "            train_x,test_x=train[tr_index],train[te]\n",
    "            train_y,test_y=label[tr_index],label[te]\n",
    "            model.fit(train_x,train_y)\n",
    "            a=model.predict(test_x)\n",
    "            err.append(np.sqrt(np.mean((a-test_y)**2)))\n",
    "            print (err[-1])\n",
    "            \n",
    "            out=model.predict(test.fillna(-999).values)\n",
    "            l.append(out)\n",
    "                \n",
    "            \n",
    "        print('mean error   ',np.mean(err))\n",
    "        return l,err\n",
    "    except :\n",
    "        print('error')"
   ]
  },
  {
   "cell_type": "code",
   "execution_count": 14,
   "metadata": {},
   "outputs": [],
   "source": [
    "train1=handle_object(train)"
   ]
  },
  {
   "cell_type": "code",
   "execution_count": 15,
   "metadata": {},
   "outputs": [],
   "source": [
    "col=col_and_set(train1)"
   ]
  },
  {
   "cell_type": "code",
   "execution_count": 16,
   "metadata": {},
   "outputs": [],
   "source": [
    "l_data=split_data(train1)"
   ]
  },
  {
   "cell_type": "code",
   "execution_count": 17,
   "metadata": {},
   "outputs": [],
   "source": [
    "l_ft=[frequency_feature(a,col) for a in l_data]"
   ]
  },
  {
   "cell_type": "code",
   "execution_count": 18,
   "metadata": {},
   "outputs": [],
   "source": [
    "ou,tra=split_window(l_ft)"
   ]
  },
  {
   "cell_type": "code",
   "execution_count": 19,
   "metadata": {},
   "outputs": [],
   "source": [
    "ou=merge(ou)"
   ]
  },
  {
   "cell_type": "code",
   "execution_count": null,
   "metadata": {},
   "outputs": [],
   "source": []
  },
  {
   "cell_type": "code",
   "execution_count": 22,
   "metadata": {},
   "outputs": [],
   "source": [
    "ou=drop_null(ou)"
   ]
  },
  {
   "cell_type": "code",
   "execution_count": 23,
   "metadata": {},
   "outputs": [],
   "source": [
    "ou=ou[ou['label']<3000]\n",
    "label=ou['label']"
   ]
  },
  {
   "cell_type": "code",
   "execution_count": 24,
   "metadata": {},
   "outputs": [],
   "source": [
    "ou.drop(['class_id','label'],axis=1,inplace=True)"
   ]
  },
  {
   "cell_type": "code",
   "execution_count": 25,
   "metadata": {},
   "outputs": [],
   "source": [
    "clas=tra['class_id']\n",
    "clas=pd.DataFrame(clas)\n",
    "tra.drop('class_id',axis=1,inplace=True)"
   ]
  },
  {
   "cell_type": "code",
   "execution_count": 26,
   "metadata": {},
   "outputs": [],
   "source": [
    "ou=pd.concat([ou,tra],axis=0)"
   ]
  },
  {
   "cell_type": "code",
   "execution_count": 27,
   "metadata": {},
   "outputs": [],
   "source": [
    "ou1=num_rank(ou)"
   ]
  },
  {
   "cell_type": "code",
   "execution_count": 28,
   "metadata": {},
   "outputs": [],
   "source": [
    "ou2=num_sta(ou1)"
   ]
  },
  {
   "cell_type": "markdown",
   "metadata": {},
   "source": [
    "## xgb算法 "
   ]
  },
  {
   "cell_type": "code",
   "execution_count": 35,
   "metadata": {},
   "outputs": [],
   "source": [
    "train_x,test_x,train_y,test_y=train_test_split(ou2[impt['name']].iloc[:5314],label,test_size=0.1,random_state=23)\n",
    "\n",
    "train_=xgb.DMatrix(train_x,train_y)\n",
    "test_=xgb.DMatrix(test_x,test_y)\n",
    "\n",
    "watchlist=[(train_,'train'),(test_,'test')]"
   ]
  },
  {
   "cell_type": "code",
   "execution_count": 46,
   "metadata": {},
   "outputs": [],
   "source": [
    "    params = {\n",
    "            'booster' : 'gbtree',\n",
    "            'objective': 'reg:linear',\n",
    "            'eta': 0.02,\n",
    "            'gamma' : 1,\n",
    "            'max_depth' :6,\n",
    "            'min_child_weight' :1,\n",
    "            'eval_metric' :'rmse',\n",
    "            'seed': 11,\n",
    "            'missing': -999,\n",
    "            'alpha'  :   10,\n",
    "            'lambda'  :   500,\n",
    "            'subsample'   :  0.8,\n",
    "            'colsample_bytree' :0.8,\n",
    "             'colsample_bybooster':1,\n",
    "       \n",
    "            'silent' : 1,\n",
    "            \n",
    "            \n",
    "            }"
   ]
  },
  {
   "cell_type": "code",
   "execution_count": 47,
   "metadata": {},
   "outputs": [
    {
     "name": "stdout",
     "output_type": "stream",
     "text": [
      "[0]\ttrain-rmse:624.177\ttest-rmse:605.885\n",
      "Multiple eval metrics have been passed: 'test-rmse' will be used for early stopping.\n",
      "\n",
      "Will train until test-rmse hasn't improved in 30 rounds.\n",
      "[1]\ttrain-rmse:617.606\ttest-rmse:599.474\n",
      "[2]\ttrain-rmse:611.197\ttest-rmse:593.204\n",
      "[3]\ttrain-rmse:604.873\ttest-rmse:587.072\n",
      "[4]\ttrain-rmse:598.729\ttest-rmse:581.085\n",
      "[5]\ttrain-rmse:592.665\ttest-rmse:575.195\n",
      "[6]\ttrain-rmse:586.697\ttest-rmse:569.386\n",
      "[7]\ttrain-rmse:580.912\ttest-rmse:563.748\n",
      "[8]\ttrain-rmse:575.189\ttest-rmse:558.154\n",
      "[9]\ttrain-rmse:569.558\ttest-rmse:552.72\n",
      "[10]\ttrain-rmse:564.056\ttest-rmse:547.328\n",
      "[11]\ttrain-rmse:558.666\ttest-rmse:542.098\n",
      "[12]\ttrain-rmse:553.387\ttest-rmse:536.848\n",
      "[13]\ttrain-rmse:548.263\ttest-rmse:531.845\n",
      "[14]\ttrain-rmse:543.116\ttest-rmse:526.816\n",
      "[15]\ttrain-rmse:538.097\ttest-rmse:521.894\n",
      "[16]\ttrain-rmse:533.26\ttest-rmse:517.248\n",
      "[17]\ttrain-rmse:528.385\ttest-rmse:512.479\n",
      "[18]\ttrain-rmse:523.637\ttest-rmse:507.863\n",
      "[19]\ttrain-rmse:518.929\ttest-rmse:503.255\n",
      "[20]\ttrain-rmse:514.257\ttest-rmse:498.65\n",
      "[21]\ttrain-rmse:509.714\ttest-rmse:494.189\n",
      "[22]\ttrain-rmse:505.33\ttest-rmse:489.885\n",
      "[23]\ttrain-rmse:500.946\ttest-rmse:485.557\n",
      "[24]\ttrain-rmse:496.732\ttest-rmse:481.413\n",
      "[25]\ttrain-rmse:492.433\ttest-rmse:477.189\n",
      "[26]\ttrain-rmse:488.207\ttest-rmse:473.008\n",
      "[27]\ttrain-rmse:484.174\ttest-rmse:469.051\n",
      "[28]\ttrain-rmse:480.159\ttest-rmse:465.099\n",
      "[29]\ttrain-rmse:476.232\ttest-rmse:461.28\n",
      "[30]\ttrain-rmse:472.309\ttest-rmse:457.402\n",
      "[31]\ttrain-rmse:468.581\ttest-rmse:453.717\n",
      "[32]\ttrain-rmse:464.772\ttest-rmse:449.949\n",
      "[33]\ttrain-rmse:461.093\ttest-rmse:446.321\n",
      "[34]\ttrain-rmse:457.393\ttest-rmse:442.666\n",
      "[35]\ttrain-rmse:453.75\ttest-rmse:439.073\n",
      "[36]\ttrain-rmse:450.278\ttest-rmse:435.671\n",
      "[37]\ttrain-rmse:446.766\ttest-rmse:432.171\n",
      "[38]\ttrain-rmse:443.286\ttest-rmse:428.705\n",
      "[39]\ttrain-rmse:439.952\ttest-rmse:425.407\n",
      "[40]\ttrain-rmse:436.64\ttest-rmse:422.11\n",
      "[41]\ttrain-rmse:433.388\ttest-rmse:418.871\n",
      "[42]\ttrain-rmse:430.157\ttest-rmse:415.679\n",
      "[43]\ttrain-rmse:426.962\ttest-rmse:412.476\n",
      "[44]\ttrain-rmse:423.843\ttest-rmse:409.384\n",
      "[45]\ttrain-rmse:420.799\ttest-rmse:406.342\n",
      "[46]\ttrain-rmse:417.818\ttest-rmse:403.393\n",
      "[47]\ttrain-rmse:414.874\ttest-rmse:400.407\n",
      "[48]\ttrain-rmse:412.101\ttest-rmse:397.674\n",
      "[49]\ttrain-rmse:409.281\ttest-rmse:394.891\n",
      "[50]\ttrain-rmse:406.467\ttest-rmse:392.068\n",
      "[51]\ttrain-rmse:403.711\ttest-rmse:389.357\n",
      "[52]\ttrain-rmse:400.98\ttest-rmse:386.656\n",
      "[53]\ttrain-rmse:398.311\ttest-rmse:384.013\n",
      "[54]\ttrain-rmse:395.683\ttest-rmse:381.422\n",
      "[55]\ttrain-rmse:393.065\ttest-rmse:378.815\n",
      "[56]\ttrain-rmse:390.554\ttest-rmse:376.324\n",
      "[57]\ttrain-rmse:388.092\ttest-rmse:373.936\n",
      "[58]\ttrain-rmse:385.608\ttest-rmse:371.432\n",
      "[59]\ttrain-rmse:383.182\ttest-rmse:369.075\n",
      "[60]\ttrain-rmse:380.721\ttest-rmse:366.595\n",
      "[61]\ttrain-rmse:378.291\ttest-rmse:364.11\n",
      "[62]\ttrain-rmse:375.96\ttest-rmse:361.767\n",
      "[63]\ttrain-rmse:373.637\ttest-rmse:359.437\n",
      "[64]\ttrain-rmse:371.307\ttest-rmse:357.025\n",
      "[65]\ttrain-rmse:369.048\ttest-rmse:354.696\n",
      "[66]\ttrain-rmse:366.834\ttest-rmse:352.412\n",
      "[67]\ttrain-rmse:364.666\ttest-rmse:350.234\n",
      "[68]\ttrain-rmse:362.456\ttest-rmse:347.959\n",
      "[69]\ttrain-rmse:360.377\ttest-rmse:345.853\n",
      "[70]\ttrain-rmse:358.335\ttest-rmse:343.78\n",
      "[71]\ttrain-rmse:356.324\ttest-rmse:341.733\n",
      "[72]\ttrain-rmse:354.336\ttest-rmse:339.726\n",
      "[73]\ttrain-rmse:352.346\ttest-rmse:337.661\n",
      "[74]\ttrain-rmse:350.343\ttest-rmse:335.586\n",
      "[75]\ttrain-rmse:348.369\ttest-rmse:333.543\n",
      "[76]\ttrain-rmse:346.478\ttest-rmse:331.619\n",
      "[77]\ttrain-rmse:344.591\ttest-rmse:329.733\n",
      "[78]\ttrain-rmse:342.724\ttest-rmse:327.851\n",
      "[79]\ttrain-rmse:340.888\ttest-rmse:326.008\n",
      "[80]\ttrain-rmse:339.056\ttest-rmse:324.104\n",
      "[81]\ttrain-rmse:337.21\ttest-rmse:322.18\n",
      "[82]\ttrain-rmse:335.453\ttest-rmse:320.383\n",
      "[83]\ttrain-rmse:333.679\ttest-rmse:318.565\n",
      "[84]\ttrain-rmse:331.945\ttest-rmse:316.766\n",
      "[85]\ttrain-rmse:330.275\ttest-rmse:315.048\n",
      "[86]\ttrain-rmse:328.593\ttest-rmse:313.347\n",
      "[87]\ttrain-rmse:327.042\ttest-rmse:311.767\n",
      "[88]\ttrain-rmse:325.424\ttest-rmse:310.123\n",
      "[89]\ttrain-rmse:323.862\ttest-rmse:308.579\n",
      "[90]\ttrain-rmse:322.304\ttest-rmse:307.018\n",
      "[91]\ttrain-rmse:320.746\ttest-rmse:305.426\n",
      "[92]\ttrain-rmse:319.199\ttest-rmse:303.821\n",
      "[93]\ttrain-rmse:317.717\ttest-rmse:302.339\n",
      "[94]\ttrain-rmse:316.241\ttest-rmse:300.827\n",
      "[95]\ttrain-rmse:314.801\ttest-rmse:299.388\n",
      "[96]\ttrain-rmse:313.369\ttest-rmse:297.952\n",
      "[97]\ttrain-rmse:311.93\ttest-rmse:296.508\n",
      "[98]\ttrain-rmse:310.495\ttest-rmse:295.04\n",
      "[99]\ttrain-rmse:309.106\ttest-rmse:293.684\n",
      "[100]\ttrain-rmse:307.695\ttest-rmse:292.243\n",
      "[101]\ttrain-rmse:306.286\ttest-rmse:290.793\n",
      "[102]\ttrain-rmse:304.961\ttest-rmse:289.445\n",
      "[103]\ttrain-rmse:303.594\ttest-rmse:288.04\n",
      "[104]\ttrain-rmse:302.269\ttest-rmse:286.749\n",
      "[105]\ttrain-rmse:301.013\ttest-rmse:285.513\n",
      "[106]\ttrain-rmse:299.752\ttest-rmse:284.283\n",
      "[107]\ttrain-rmse:298.519\ttest-rmse:283.013\n",
      "[108]\ttrain-rmse:297.306\ttest-rmse:281.788\n",
      "[109]\ttrain-rmse:296.04\ttest-rmse:280.535\n",
      "[110]\ttrain-rmse:294.865\ttest-rmse:279.39\n",
      "[111]\ttrain-rmse:293.687\ttest-rmse:278.206\n",
      "[112]\ttrain-rmse:292.516\ttest-rmse:277.01\n",
      "[113]\ttrain-rmse:291.338\ttest-rmse:275.795\n",
      "[114]\ttrain-rmse:290.17\ttest-rmse:274.61\n",
      "[115]\ttrain-rmse:289.04\ttest-rmse:273.438\n",
      "[116]\ttrain-rmse:287.954\ttest-rmse:272.35\n",
      "[117]\ttrain-rmse:286.884\ttest-rmse:271.268\n",
      "[118]\ttrain-rmse:285.796\ttest-rmse:270.149\n",
      "[119]\ttrain-rmse:284.714\ttest-rmse:269.07\n",
      "[120]\ttrain-rmse:283.686\ttest-rmse:267.997\n",
      "[121]\ttrain-rmse:282.66\ttest-rmse:266.923\n",
      "[122]\ttrain-rmse:281.581\ttest-rmse:265.828\n",
      "[123]\ttrain-rmse:280.575\ttest-rmse:264.871\n",
      "[124]\ttrain-rmse:279.565\ttest-rmse:263.804\n",
      "[125]\ttrain-rmse:278.558\ttest-rmse:262.793\n",
      "[126]\ttrain-rmse:277.572\ttest-rmse:261.793\n",
      "[127]\ttrain-rmse:276.606\ttest-rmse:260.829\n",
      "[128]\ttrain-rmse:275.635\ttest-rmse:259.883\n",
      "[129]\ttrain-rmse:274.634\ttest-rmse:258.858\n",
      "[130]\ttrain-rmse:273.705\ttest-rmse:257.916\n",
      "[131]\ttrain-rmse:272.765\ttest-rmse:256.935\n",
      "[132]\ttrain-rmse:271.853\ttest-rmse:256.063\n",
      "[133]\ttrain-rmse:270.964\ttest-rmse:255.163\n",
      "[134]\ttrain-rmse:270.075\ttest-rmse:254.281\n",
      "[135]\ttrain-rmse:269.216\ttest-rmse:253.445\n",
      "[136]\ttrain-rmse:268.335\ttest-rmse:252.57\n",
      "[137]\ttrain-rmse:267.482\ttest-rmse:251.696\n",
      "[138]\ttrain-rmse:266.604\ttest-rmse:250.766\n",
      "[139]\ttrain-rmse:265.775\ttest-rmse:250.003\n",
      "[140]\ttrain-rmse:264.951\ttest-rmse:249.139\n",
      "[141]\ttrain-rmse:264.13\ttest-rmse:248.291\n",
      "[142]\ttrain-rmse:263.285\ttest-rmse:247.407\n",
      "[143]\ttrain-rmse:262.436\ttest-rmse:246.53\n",
      "[144]\ttrain-rmse:261.644\ttest-rmse:245.731\n",
      "[145]\ttrain-rmse:260.845\ttest-rmse:244.928\n",
      "[146]\ttrain-rmse:260.057\ttest-rmse:244.16\n",
      "[147]\ttrain-rmse:259.254\ttest-rmse:243.411\n",
      "[148]\ttrain-rmse:258.456\ttest-rmse:242.626\n",
      "[149]\ttrain-rmse:257.687\ttest-rmse:241.898\n",
      "[150]\ttrain-rmse:256.936\ttest-rmse:241.111\n",
      "[151]\ttrain-rmse:256.204\ttest-rmse:240.385\n",
      "[152]\ttrain-rmse:255.446\ttest-rmse:239.629\n",
      "[153]\ttrain-rmse:254.722\ttest-rmse:238.989\n",
      "[154]\ttrain-rmse:254.001\ttest-rmse:238.306\n",
      "[155]\ttrain-rmse:253.295\ttest-rmse:237.591\n",
      "[156]\ttrain-rmse:252.538\ttest-rmse:236.931\n",
      "[157]\ttrain-rmse:251.84\ttest-rmse:236.308\n",
      "[158]\ttrain-rmse:251.194\ttest-rmse:235.726\n",
      "[159]\ttrain-rmse:250.52\ttest-rmse:235.033\n",
      "[160]\ttrain-rmse:249.884\ttest-rmse:234.496\n",
      "[161]\ttrain-rmse:249.215\ttest-rmse:233.828\n",
      "[162]\ttrain-rmse:248.548\ttest-rmse:233.145\n",
      "[163]\ttrain-rmse:247.868\ttest-rmse:232.489\n",
      "[164]\ttrain-rmse:247.206\ttest-rmse:231.93\n",
      "[165]\ttrain-rmse:246.545\ttest-rmse:231.294\n",
      "[166]\ttrain-rmse:245.936\ttest-rmse:230.75\n",
      "[167]\ttrain-rmse:245.296\ttest-rmse:230.175\n",
      "[168]\ttrain-rmse:244.656\ttest-rmse:229.643\n",
      "[169]\ttrain-rmse:244.027\ttest-rmse:229.01\n",
      "[170]\ttrain-rmse:243.403\ttest-rmse:228.445\n",
      "[171]\ttrain-rmse:242.798\ttest-rmse:227.893\n",
      "[172]\ttrain-rmse:242.187\ttest-rmse:227.468\n",
      "[173]\ttrain-rmse:241.565\ttest-rmse:226.933\n",
      "[174]\ttrain-rmse:240.953\ttest-rmse:226.42\n",
      "[175]\ttrain-rmse:240.344\ttest-rmse:225.918\n",
      "[176]\ttrain-rmse:239.767\ttest-rmse:225.429\n",
      "[177]\ttrain-rmse:239.207\ttest-rmse:224.952\n",
      "[178]\ttrain-rmse:238.6\ttest-rmse:224.457\n",
      "[179]\ttrain-rmse:238.048\ttest-rmse:223.995\n",
      "[180]\ttrain-rmse:237.509\ttest-rmse:223.499\n",
      "[181]\ttrain-rmse:236.954\ttest-rmse:223.102\n",
      "[182]\ttrain-rmse:236.4\ttest-rmse:222.646\n",
      "[183]\ttrain-rmse:235.846\ttest-rmse:222.14\n",
      "[184]\ttrain-rmse:235.322\ttest-rmse:221.676\n",
      "[185]\ttrain-rmse:234.806\ttest-rmse:221.233\n",
      "[186]\ttrain-rmse:234.262\ttest-rmse:220.769\n",
      "[187]\ttrain-rmse:233.701\ttest-rmse:220.243\n",
      "[188]\ttrain-rmse:233.162\ttest-rmse:219.763\n",
      "[189]\ttrain-rmse:232.659\ttest-rmse:219.317\n",
      "[190]\ttrain-rmse:232.132\ttest-rmse:218.857\n"
     ]
    },
    {
     "name": "stdout",
     "output_type": "stream",
     "text": [
      "[191]\ttrain-rmse:231.626\ttest-rmse:218.448\n",
      "[192]\ttrain-rmse:231.146\ttest-rmse:218.048\n",
      "[193]\ttrain-rmse:230.648\ttest-rmse:217.582\n",
      "[194]\ttrain-rmse:230.145\ttest-rmse:217.108\n",
      "[195]\ttrain-rmse:229.66\ttest-rmse:216.751\n",
      "[196]\ttrain-rmse:229.167\ttest-rmse:216.313\n",
      "[197]\ttrain-rmse:228.704\ttest-rmse:215.874\n",
      "[198]\ttrain-rmse:228.225\ttest-rmse:215.434\n",
      "[199]\ttrain-rmse:227.744\ttest-rmse:215.083\n",
      "[200]\ttrain-rmse:227.252\ttest-rmse:214.704\n",
      "[201]\ttrain-rmse:226.801\ttest-rmse:214.267\n",
      "[202]\ttrain-rmse:226.319\ttest-rmse:213.818\n",
      "[203]\ttrain-rmse:225.884\ttest-rmse:213.455\n",
      "[204]\ttrain-rmse:225.446\ttest-rmse:213.086\n",
      "[205]\ttrain-rmse:224.966\ttest-rmse:212.668\n",
      "[206]\ttrain-rmse:224.537\ttest-rmse:212.258\n",
      "[207]\ttrain-rmse:224.077\ttest-rmse:211.858\n",
      "[208]\ttrain-rmse:223.637\ttest-rmse:211.47\n",
      "[209]\ttrain-rmse:223.193\ttest-rmse:211.079\n",
      "[210]\ttrain-rmse:222.785\ttest-rmse:210.762\n",
      "[211]\ttrain-rmse:222.356\ttest-rmse:210.401\n",
      "[212]\ttrain-rmse:221.915\ttest-rmse:210.058\n",
      "[213]\ttrain-rmse:221.504\ttest-rmse:209.73\n",
      "[214]\ttrain-rmse:221.087\ttest-rmse:209.401\n",
      "[215]\ttrain-rmse:220.674\ttest-rmse:209.058\n",
      "[216]\ttrain-rmse:220.253\ttest-rmse:208.669\n",
      "[217]\ttrain-rmse:219.862\ttest-rmse:208.345\n",
      "[218]\ttrain-rmse:219.475\ttest-rmse:208.008\n",
      "[219]\ttrain-rmse:219.072\ttest-rmse:207.669\n",
      "[220]\ttrain-rmse:218.688\ttest-rmse:207.339\n",
      "[221]\ttrain-rmse:218.294\ttest-rmse:207.051\n",
      "[222]\ttrain-rmse:217.907\ttest-rmse:206.729\n",
      "[223]\ttrain-rmse:217.539\ttest-rmse:206.449\n",
      "[224]\ttrain-rmse:217.142\ttest-rmse:206.112\n",
      "[225]\ttrain-rmse:216.74\ttest-rmse:205.802\n",
      "[226]\ttrain-rmse:216.361\ttest-rmse:205.474\n",
      "[227]\ttrain-rmse:215.983\ttest-rmse:205.204\n",
      "[228]\ttrain-rmse:215.588\ttest-rmse:204.904\n",
      "[229]\ttrain-rmse:215.215\ttest-rmse:204.641\n",
      "[230]\ttrain-rmse:214.832\ttest-rmse:204.321\n",
      "[231]\ttrain-rmse:214.496\ttest-rmse:204.035\n",
      "[232]\ttrain-rmse:214.15\ttest-rmse:203.803\n",
      "[233]\ttrain-rmse:213.776\ttest-rmse:203.519\n",
      "[234]\ttrain-rmse:213.424\ttest-rmse:203.296\n",
      "[235]\ttrain-rmse:213.09\ttest-rmse:203.087\n",
      "[236]\ttrain-rmse:212.73\ttest-rmse:202.811\n",
      "[237]\ttrain-rmse:212.395\ttest-rmse:202.558\n",
      "[238]\ttrain-rmse:212.055\ttest-rmse:202.304\n",
      "[239]\ttrain-rmse:211.711\ttest-rmse:202.024\n",
      "[240]\ttrain-rmse:211.373\ttest-rmse:201.764\n",
      "[241]\ttrain-rmse:211.025\ttest-rmse:201.454\n",
      "[242]\ttrain-rmse:210.688\ttest-rmse:201.197\n",
      "[243]\ttrain-rmse:210.34\ttest-rmse:200.907\n",
      "[244]\ttrain-rmse:210.016\ttest-rmse:200.69\n",
      "[245]\ttrain-rmse:209.71\ttest-rmse:200.46\n",
      "[246]\ttrain-rmse:209.404\ttest-rmse:200.237\n",
      "[247]\ttrain-rmse:209.088\ttest-rmse:199.991\n",
      "[248]\ttrain-rmse:208.762\ttest-rmse:199.762\n",
      "[249]\ttrain-rmse:208.441\ttest-rmse:199.524\n",
      "[250]\ttrain-rmse:208.154\ttest-rmse:199.314\n",
      "[251]\ttrain-rmse:207.847\ttest-rmse:199.082\n",
      "[252]\ttrain-rmse:207.54\ttest-rmse:198.876\n",
      "[253]\ttrain-rmse:207.27\ttest-rmse:198.684\n",
      "[254]\ttrain-rmse:206.974\ttest-rmse:198.448\n",
      "[255]\ttrain-rmse:206.678\ttest-rmse:198.238\n",
      "[256]\ttrain-rmse:206.393\ttest-rmse:198.055\n",
      "[257]\ttrain-rmse:206.113\ttest-rmse:197.851\n",
      "[258]\ttrain-rmse:205.82\ttest-rmse:197.672\n",
      "[259]\ttrain-rmse:205.53\ttest-rmse:197.494\n",
      "[260]\ttrain-rmse:205.268\ttest-rmse:197.324\n",
      "[261]\ttrain-rmse:204.985\ttest-rmse:197.111\n",
      "[262]\ttrain-rmse:204.699\ttest-rmse:196.909\n",
      "[263]\ttrain-rmse:204.42\ttest-rmse:196.724\n",
      "[264]\ttrain-rmse:204.134\ttest-rmse:196.496\n",
      "[265]\ttrain-rmse:203.872\ttest-rmse:196.297\n",
      "[266]\ttrain-rmse:203.598\ttest-rmse:196.1\n",
      "[267]\ttrain-rmse:203.346\ttest-rmse:195.914\n",
      "[268]\ttrain-rmse:203.06\ttest-rmse:195.709\n",
      "[269]\ttrain-rmse:202.783\ttest-rmse:195.52\n",
      "[270]\ttrain-rmse:202.517\ttest-rmse:195.34\n",
      "[271]\ttrain-rmse:202.253\ttest-rmse:195.153\n",
      "[272]\ttrain-rmse:202.004\ttest-rmse:194.987\n",
      "[273]\ttrain-rmse:201.755\ttest-rmse:194.795\n",
      "[274]\ttrain-rmse:201.506\ttest-rmse:194.614\n",
      "[275]\ttrain-rmse:201.255\ttest-rmse:194.431\n",
      "[276]\ttrain-rmse:201.006\ttest-rmse:194.249\n",
      "[277]\ttrain-rmse:200.749\ttest-rmse:194.072\n",
      "[278]\ttrain-rmse:200.513\ttest-rmse:193.912\n",
      "[279]\ttrain-rmse:200.27\ttest-rmse:193.74\n",
      "[280]\ttrain-rmse:200.023\ttest-rmse:193.577\n",
      "[281]\ttrain-rmse:199.791\ttest-rmse:193.414\n",
      "[282]\ttrain-rmse:199.563\ttest-rmse:193.245\n",
      "[283]\ttrain-rmse:199.304\ttest-rmse:193.069\n",
      "[284]\ttrain-rmse:199.062\ttest-rmse:192.891\n",
      "[285]\ttrain-rmse:198.81\ttest-rmse:192.735\n",
      "[286]\ttrain-rmse:198.587\ttest-rmse:192.559\n",
      "[287]\ttrain-rmse:198.365\ttest-rmse:192.462\n",
      "[288]\ttrain-rmse:198.12\ttest-rmse:192.288\n",
      "[289]\ttrain-rmse:197.903\ttest-rmse:192.146\n",
      "[290]\ttrain-rmse:197.688\ttest-rmse:192.031\n",
      "[291]\ttrain-rmse:197.451\ttest-rmse:191.865\n",
      "[292]\ttrain-rmse:197.227\ttest-rmse:191.729\n",
      "[293]\ttrain-rmse:197.01\ttest-rmse:191.628\n",
      "[294]\ttrain-rmse:196.795\ttest-rmse:191.513\n",
      "[295]\ttrain-rmse:196.56\ttest-rmse:191.362\n",
      "[296]\ttrain-rmse:196.339\ttest-rmse:191.233\n",
      "[297]\ttrain-rmse:196.13\ttest-rmse:191.108\n",
      "[298]\ttrain-rmse:195.911\ttest-rmse:190.997\n",
      "[299]\ttrain-rmse:195.692\ttest-rmse:190.838\n",
      "[300]\ttrain-rmse:195.472\ttest-rmse:190.733\n",
      "[301]\ttrain-rmse:195.261\ttest-rmse:190.6\n",
      "[302]\ttrain-rmse:195.057\ttest-rmse:190.458\n",
      "[303]\ttrain-rmse:194.858\ttest-rmse:190.317\n",
      "[304]\ttrain-rmse:194.648\ttest-rmse:190.22\n",
      "[305]\ttrain-rmse:194.44\ttest-rmse:190.079\n",
      "[306]\ttrain-rmse:194.227\ttest-rmse:189.94\n",
      "[307]\ttrain-rmse:194.026\ttest-rmse:189.851\n",
      "[308]\ttrain-rmse:193.827\ttest-rmse:189.743\n",
      "[309]\ttrain-rmse:193.622\ttest-rmse:189.619\n",
      "[310]\ttrain-rmse:193.413\ttest-rmse:189.469\n",
      "[311]\ttrain-rmse:193.224\ttest-rmse:189.343\n",
      "[312]\ttrain-rmse:193.017\ttest-rmse:189.217\n",
      "[313]\ttrain-rmse:192.811\ttest-rmse:189.123\n",
      "[314]\ttrain-rmse:192.618\ttest-rmse:189.03\n",
      "[315]\ttrain-rmse:192.453\ttest-rmse:188.944\n",
      "[316]\ttrain-rmse:192.251\ttest-rmse:188.823\n",
      "[317]\ttrain-rmse:192.057\ttest-rmse:188.712\n",
      "[318]\ttrain-rmse:191.867\ttest-rmse:188.601\n",
      "[319]\ttrain-rmse:191.69\ttest-rmse:188.499\n",
      "[320]\ttrain-rmse:191.498\ttest-rmse:188.379\n",
      "[321]\ttrain-rmse:191.317\ttest-rmse:188.285\n",
      "[322]\ttrain-rmse:191.132\ttest-rmse:188.162\n",
      "[323]\ttrain-rmse:190.938\ttest-rmse:188.034\n",
      "[324]\ttrain-rmse:190.762\ttest-rmse:187.916\n",
      "[325]\ttrain-rmse:190.6\ttest-rmse:187.808\n",
      "[326]\ttrain-rmse:190.405\ttest-rmse:187.679\n",
      "[327]\ttrain-rmse:190.227\ttest-rmse:187.565\n",
      "[328]\ttrain-rmse:190.043\ttest-rmse:187.438\n",
      "[329]\ttrain-rmse:189.873\ttest-rmse:187.376\n",
      "[330]\ttrain-rmse:189.7\ttest-rmse:187.303\n",
      "[331]\ttrain-rmse:189.54\ttest-rmse:187.189\n",
      "[332]\ttrain-rmse:189.365\ttest-rmse:187.082\n",
      "[333]\ttrain-rmse:189.215\ttest-rmse:187.002\n",
      "[334]\ttrain-rmse:189.048\ttest-rmse:186.911\n",
      "[335]\ttrain-rmse:188.878\ttest-rmse:186.833\n",
      "[336]\ttrain-rmse:188.711\ttest-rmse:186.731\n",
      "[337]\ttrain-rmse:188.54\ttest-rmse:186.625\n",
      "[338]\ttrain-rmse:188.387\ttest-rmse:186.526\n",
      "[339]\ttrain-rmse:188.213\ttest-rmse:186.44\n",
      "[340]\ttrain-rmse:188.043\ttest-rmse:186.371\n",
      "[341]\ttrain-rmse:187.875\ttest-rmse:186.298\n",
      "[342]\ttrain-rmse:187.72\ttest-rmse:186.226\n",
      "[343]\ttrain-rmse:187.574\ttest-rmse:186.131\n",
      "[344]\ttrain-rmse:187.402\ttest-rmse:186.057\n",
      "[345]\ttrain-rmse:187.254\ttest-rmse:185.999\n",
      "[346]\ttrain-rmse:187.098\ttest-rmse:185.921\n",
      "[347]\ttrain-rmse:186.954\ttest-rmse:185.813\n",
      "[348]\ttrain-rmse:186.814\ttest-rmse:185.737\n",
      "[349]\ttrain-rmse:186.657\ttest-rmse:185.641\n",
      "[350]\ttrain-rmse:186.512\ttest-rmse:185.552\n",
      "[351]\ttrain-rmse:186.352\ttest-rmse:185.429\n",
      "[352]\ttrain-rmse:186.207\ttest-rmse:185.356\n",
      "[353]\ttrain-rmse:186.056\ttest-rmse:185.292\n",
      "[354]\ttrain-rmse:185.918\ttest-rmse:185.235\n",
      "[355]\ttrain-rmse:185.754\ttest-rmse:185.166\n",
      "[356]\ttrain-rmse:185.592\ttest-rmse:185.077\n",
      "[357]\ttrain-rmse:185.454\ttest-rmse:185.012\n",
      "[358]\ttrain-rmse:185.317\ttest-rmse:184.931\n",
      "[359]\ttrain-rmse:185.17\ttest-rmse:184.86\n",
      "[360]\ttrain-rmse:185.027\ttest-rmse:184.779\n",
      "[361]\ttrain-rmse:184.883\ttest-rmse:184.694\n",
      "[362]\ttrain-rmse:184.756\ttest-rmse:184.63\n",
      "[363]\ttrain-rmse:184.623\ttest-rmse:184.557\n",
      "[364]\ttrain-rmse:184.489\ttest-rmse:184.499\n",
      "[365]\ttrain-rmse:184.367\ttest-rmse:184.415\n",
      "[366]\ttrain-rmse:184.245\ttest-rmse:184.387\n",
      "[367]\ttrain-rmse:184.114\ttest-rmse:184.308\n",
      "[368]\ttrain-rmse:183.988\ttest-rmse:184.258\n",
      "[369]\ttrain-rmse:183.848\ttest-rmse:184.183\n",
      "[370]\ttrain-rmse:183.714\ttest-rmse:184.119\n",
      "[371]\ttrain-rmse:183.588\ttest-rmse:184.066\n",
      "[372]\ttrain-rmse:183.455\ttest-rmse:183.986\n",
      "[373]\ttrain-rmse:183.336\ttest-rmse:183.921\n",
      "[374]\ttrain-rmse:183.209\ttest-rmse:183.872\n",
      "[375]\ttrain-rmse:183.072\ttest-rmse:183.838\n",
      "[376]\ttrain-rmse:182.943\ttest-rmse:183.78\n",
      "[377]\ttrain-rmse:182.822\ttest-rmse:183.709\n",
      "[378]\ttrain-rmse:182.684\ttest-rmse:183.642\n",
      "[379]\ttrain-rmse:182.556\ttest-rmse:183.611\n",
      "[380]\ttrain-rmse:182.421\ttest-rmse:183.575\n",
      "[381]\ttrain-rmse:182.283\ttest-rmse:183.498\n",
      "[382]\ttrain-rmse:182.158\ttest-rmse:183.435\n"
     ]
    },
    {
     "name": "stdout",
     "output_type": "stream",
     "text": [
      "[383]\ttrain-rmse:182.044\ttest-rmse:183.38\n",
      "[384]\ttrain-rmse:181.92\ttest-rmse:183.299\n",
      "[385]\ttrain-rmse:181.797\ttest-rmse:183.262\n",
      "[386]\ttrain-rmse:181.688\ttest-rmse:183.223\n",
      "[387]\ttrain-rmse:181.57\ttest-rmse:183.179\n",
      "[388]\ttrain-rmse:181.455\ttest-rmse:183.116\n",
      "[389]\ttrain-rmse:181.349\ttest-rmse:183.073\n",
      "[390]\ttrain-rmse:181.219\ttest-rmse:183.043\n",
      "[391]\ttrain-rmse:181.106\ttest-rmse:182.99\n",
      "[392]\ttrain-rmse:180.989\ttest-rmse:182.953\n",
      "[393]\ttrain-rmse:180.878\ttest-rmse:182.916\n",
      "[394]\ttrain-rmse:180.772\ttest-rmse:182.855\n",
      "[395]\ttrain-rmse:180.654\ttest-rmse:182.802\n",
      "[396]\ttrain-rmse:180.555\ttest-rmse:182.761\n",
      "[397]\ttrain-rmse:180.453\ttest-rmse:182.728\n",
      "[398]\ttrain-rmse:180.342\ttest-rmse:182.656\n",
      "[399]\ttrain-rmse:180.233\ttest-rmse:182.609\n",
      "[400]\ttrain-rmse:180.129\ttest-rmse:182.571\n",
      "[401]\ttrain-rmse:180.012\ttest-rmse:182.522\n",
      "[402]\ttrain-rmse:179.909\ttest-rmse:182.469\n",
      "[403]\ttrain-rmse:179.802\ttest-rmse:182.44\n",
      "[404]\ttrain-rmse:179.699\ttest-rmse:182.382\n",
      "[405]\ttrain-rmse:179.598\ttest-rmse:182.327\n",
      "[406]\ttrain-rmse:179.511\ttest-rmse:182.264\n",
      "[407]\ttrain-rmse:179.401\ttest-rmse:182.226\n",
      "[408]\ttrain-rmse:179.306\ttest-rmse:182.161\n",
      "[409]\ttrain-rmse:179.19\ttest-rmse:182.113\n",
      "[410]\ttrain-rmse:179.09\ttest-rmse:182.071\n",
      "[411]\ttrain-rmse:178.984\ttest-rmse:181.992\n",
      "[412]\ttrain-rmse:178.886\ttest-rmse:181.964\n",
      "[413]\ttrain-rmse:178.793\ttest-rmse:181.913\n",
      "[414]\ttrain-rmse:178.692\ttest-rmse:181.868\n",
      "[415]\ttrain-rmse:178.591\ttest-rmse:181.836\n",
      "[416]\ttrain-rmse:178.498\ttest-rmse:181.82\n",
      "[417]\ttrain-rmse:178.385\ttest-rmse:181.761\n",
      "[418]\ttrain-rmse:178.293\ttest-rmse:181.701\n",
      "[419]\ttrain-rmse:178.192\ttest-rmse:181.644\n",
      "[420]\ttrain-rmse:178.091\ttest-rmse:181.609\n",
      "[421]\ttrain-rmse:177.995\ttest-rmse:181.56\n",
      "[422]\ttrain-rmse:177.894\ttest-rmse:181.496\n",
      "[423]\ttrain-rmse:177.808\ttest-rmse:181.443\n",
      "[424]\ttrain-rmse:177.706\ttest-rmse:181.412\n",
      "[425]\ttrain-rmse:177.602\ttest-rmse:181.363\n",
      "[426]\ttrain-rmse:177.505\ttest-rmse:181.307\n",
      "[427]\ttrain-rmse:177.4\ttest-rmse:181.245\n",
      "[428]\ttrain-rmse:177.29\ttest-rmse:181.192\n",
      "[429]\ttrain-rmse:177.197\ttest-rmse:181.174\n",
      "[430]\ttrain-rmse:177.09\ttest-rmse:181.132\n",
      "[431]\ttrain-rmse:176.986\ttest-rmse:181.106\n",
      "[432]\ttrain-rmse:176.893\ttest-rmse:181.075\n",
      "[433]\ttrain-rmse:176.794\ttest-rmse:181.042\n",
      "[434]\ttrain-rmse:176.697\ttest-rmse:180.998\n",
      "[435]\ttrain-rmse:176.603\ttest-rmse:180.978\n",
      "[436]\ttrain-rmse:176.512\ttest-rmse:180.953\n",
      "[437]\ttrain-rmse:176.413\ttest-rmse:180.913\n",
      "[438]\ttrain-rmse:176.323\ttest-rmse:180.875\n",
      "[439]\ttrain-rmse:176.223\ttest-rmse:180.818\n",
      "[440]\ttrain-rmse:176.136\ttest-rmse:180.8\n",
      "[441]\ttrain-rmse:176.046\ttest-rmse:180.777\n",
      "[442]\ttrain-rmse:175.942\ttest-rmse:180.719\n",
      "[443]\ttrain-rmse:175.859\ttest-rmse:180.7\n",
      "[444]\ttrain-rmse:175.76\ttest-rmse:180.673\n",
      "[445]\ttrain-rmse:175.668\ttest-rmse:180.645\n",
      "[446]\ttrain-rmse:175.573\ttest-rmse:180.609\n",
      "[447]\ttrain-rmse:175.485\ttest-rmse:180.566\n",
      "[448]\ttrain-rmse:175.399\ttest-rmse:180.521\n",
      "[449]\ttrain-rmse:175.322\ttest-rmse:180.489\n",
      "[450]\ttrain-rmse:175.228\ttest-rmse:180.448\n",
      "[451]\ttrain-rmse:175.136\ttest-rmse:180.439\n",
      "[452]\ttrain-rmse:175.057\ttest-rmse:180.41\n",
      "[453]\ttrain-rmse:174.97\ttest-rmse:180.395\n",
      "[454]\ttrain-rmse:174.877\ttest-rmse:180.376\n",
      "[455]\ttrain-rmse:174.797\ttest-rmse:180.35\n",
      "[456]\ttrain-rmse:174.712\ttest-rmse:180.332\n",
      "[457]\ttrain-rmse:174.636\ttest-rmse:180.304\n",
      "[458]\ttrain-rmse:174.558\ttest-rmse:180.278\n",
      "[459]\ttrain-rmse:174.475\ttest-rmse:180.249\n",
      "[460]\ttrain-rmse:174.396\ttest-rmse:180.205\n",
      "[461]\ttrain-rmse:174.325\ttest-rmse:180.176\n",
      "[462]\ttrain-rmse:174.246\ttest-rmse:180.163\n",
      "[463]\ttrain-rmse:174.17\ttest-rmse:180.127\n",
      "[464]\ttrain-rmse:174.099\ttest-rmse:180.12\n",
      "[465]\ttrain-rmse:174.016\ttest-rmse:180.078\n",
      "[466]\ttrain-rmse:173.926\ttest-rmse:180.07\n",
      "[467]\ttrain-rmse:173.842\ttest-rmse:180.042\n",
      "[468]\ttrain-rmse:173.766\ttest-rmse:179.995\n",
      "[469]\ttrain-rmse:173.685\ttest-rmse:179.961\n",
      "[470]\ttrain-rmse:173.605\ttest-rmse:179.934\n",
      "[471]\ttrain-rmse:173.528\ttest-rmse:179.914\n",
      "[472]\ttrain-rmse:173.458\ttest-rmse:179.909\n",
      "[473]\ttrain-rmse:173.389\ttest-rmse:179.885\n",
      "[474]\ttrain-rmse:173.308\ttest-rmse:179.886\n",
      "[475]\ttrain-rmse:173.222\ttest-rmse:179.865\n",
      "[476]\ttrain-rmse:173.157\ttest-rmse:179.843\n",
      "[477]\ttrain-rmse:173.084\ttest-rmse:179.825\n",
      "[478]\ttrain-rmse:173.01\ttest-rmse:179.799\n",
      "[479]\ttrain-rmse:172.933\ttest-rmse:179.773\n",
      "[480]\ttrain-rmse:172.86\ttest-rmse:179.749\n",
      "[481]\ttrain-rmse:172.784\ttest-rmse:179.74\n",
      "[482]\ttrain-rmse:172.704\ttest-rmse:179.726\n",
      "[483]\ttrain-rmse:172.632\ttest-rmse:179.695\n",
      "[484]\ttrain-rmse:172.564\ttest-rmse:179.662\n",
      "[485]\ttrain-rmse:172.486\ttest-rmse:179.635\n",
      "[486]\ttrain-rmse:172.412\ttest-rmse:179.617\n",
      "[487]\ttrain-rmse:172.336\ttest-rmse:179.598\n",
      "[488]\ttrain-rmse:172.266\ttest-rmse:179.594\n",
      "[489]\ttrain-rmse:172.196\ttest-rmse:179.567\n",
      "[490]\ttrain-rmse:172.131\ttest-rmse:179.575\n",
      "[491]\ttrain-rmse:172.06\ttest-rmse:179.54\n",
      "[492]\ttrain-rmse:171.995\ttest-rmse:179.523\n",
      "[493]\ttrain-rmse:171.922\ttest-rmse:179.505\n",
      "[494]\ttrain-rmse:171.857\ttest-rmse:179.494\n",
      "[495]\ttrain-rmse:171.794\ttest-rmse:179.472\n",
      "[496]\ttrain-rmse:171.715\ttest-rmse:179.443\n",
      "[497]\ttrain-rmse:171.643\ttest-rmse:179.423\n",
      "[498]\ttrain-rmse:171.572\ttest-rmse:179.391\n",
      "[499]\ttrain-rmse:171.499\ttest-rmse:179.367\n",
      "[500]\ttrain-rmse:171.43\ttest-rmse:179.367\n",
      "[501]\ttrain-rmse:171.372\ttest-rmse:179.36\n",
      "[502]\ttrain-rmse:171.298\ttest-rmse:179.344\n",
      "[503]\ttrain-rmse:171.221\ttest-rmse:179.321\n",
      "[504]\ttrain-rmse:171.153\ttest-rmse:179.286\n",
      "[505]\ttrain-rmse:171.093\ttest-rmse:179.276\n",
      "[506]\ttrain-rmse:171.029\ttest-rmse:179.266\n",
      "[507]\ttrain-rmse:170.956\ttest-rmse:179.245\n",
      "[508]\ttrain-rmse:170.881\ttest-rmse:179.232\n",
      "[509]\ttrain-rmse:170.816\ttest-rmse:179.202\n",
      "[510]\ttrain-rmse:170.75\ttest-rmse:179.169\n",
      "[511]\ttrain-rmse:170.676\ttest-rmse:179.136\n",
      "[512]\ttrain-rmse:170.611\ttest-rmse:179.113\n",
      "[513]\ttrain-rmse:170.545\ttest-rmse:179.107\n",
      "[514]\ttrain-rmse:170.48\ttest-rmse:179.076\n",
      "[515]\ttrain-rmse:170.432\ttest-rmse:179.078\n",
      "[516]\ttrain-rmse:170.378\ttest-rmse:179.049\n",
      "[517]\ttrain-rmse:170.316\ttest-rmse:179.032\n",
      "[518]\ttrain-rmse:170.257\ttest-rmse:179.009\n",
      "[519]\ttrain-rmse:170.207\ttest-rmse:178.991\n",
      "[520]\ttrain-rmse:170.147\ttest-rmse:178.972\n",
      "[521]\ttrain-rmse:170.079\ttest-rmse:178.967\n",
      "[522]\ttrain-rmse:170.026\ttest-rmse:178.96\n",
      "[523]\ttrain-rmse:169.968\ttest-rmse:178.947\n",
      "[524]\ttrain-rmse:169.908\ttest-rmse:178.929\n",
      "[525]\ttrain-rmse:169.844\ttest-rmse:178.914\n",
      "[526]\ttrain-rmse:169.785\ttest-rmse:178.905\n",
      "[527]\ttrain-rmse:169.716\ttest-rmse:178.895\n",
      "[528]\ttrain-rmse:169.663\ttest-rmse:178.874\n",
      "[529]\ttrain-rmse:169.591\ttest-rmse:178.881\n",
      "[530]\ttrain-rmse:169.526\ttest-rmse:178.875\n",
      "[531]\ttrain-rmse:169.472\ttest-rmse:178.854\n",
      "[532]\ttrain-rmse:169.424\ttest-rmse:178.848\n",
      "[533]\ttrain-rmse:169.365\ttest-rmse:178.842\n",
      "[534]\ttrain-rmse:169.306\ttest-rmse:178.823\n",
      "[535]\ttrain-rmse:169.246\ttest-rmse:178.808\n",
      "[536]\ttrain-rmse:169.186\ttest-rmse:178.801\n",
      "[537]\ttrain-rmse:169.121\ttest-rmse:178.788\n",
      "[538]\ttrain-rmse:169.065\ttest-rmse:178.78\n",
      "[539]\ttrain-rmse:169.007\ttest-rmse:178.764\n",
      "[540]\ttrain-rmse:168.95\ttest-rmse:178.751\n",
      "[541]\ttrain-rmse:168.891\ttest-rmse:178.736\n",
      "[542]\ttrain-rmse:168.83\ttest-rmse:178.738\n",
      "[543]\ttrain-rmse:168.772\ttest-rmse:178.718\n",
      "[544]\ttrain-rmse:168.719\ttest-rmse:178.696\n",
      "[545]\ttrain-rmse:168.65\ttest-rmse:178.69\n",
      "[546]\ttrain-rmse:168.597\ttest-rmse:178.673\n",
      "[547]\ttrain-rmse:168.546\ttest-rmse:178.704\n",
      "[548]\ttrain-rmse:168.485\ttest-rmse:178.682\n",
      "[549]\ttrain-rmse:168.429\ttest-rmse:178.669\n",
      "[550]\ttrain-rmse:168.371\ttest-rmse:178.654\n",
      "[551]\ttrain-rmse:168.313\ttest-rmse:178.651\n",
      "[552]\ttrain-rmse:168.251\ttest-rmse:178.637\n",
      "[553]\ttrain-rmse:168.194\ttest-rmse:178.612\n",
      "[554]\ttrain-rmse:168.131\ttest-rmse:178.606\n",
      "[555]\ttrain-rmse:168.071\ttest-rmse:178.598\n",
      "[556]\ttrain-rmse:168.01\ttest-rmse:178.594\n",
      "[557]\ttrain-rmse:167.954\ttest-rmse:178.59\n",
      "[558]\ttrain-rmse:167.904\ttest-rmse:178.58\n",
      "[559]\ttrain-rmse:167.85\ttest-rmse:178.569\n",
      "[560]\ttrain-rmse:167.802\ttest-rmse:178.566\n",
      "[561]\ttrain-rmse:167.748\ttest-rmse:178.55\n",
      "[562]\ttrain-rmse:167.689\ttest-rmse:178.535\n",
      "[563]\ttrain-rmse:167.634\ttest-rmse:178.522\n",
      "[564]\ttrain-rmse:167.582\ttest-rmse:178.511\n",
      "[565]\ttrain-rmse:167.53\ttest-rmse:178.478\n",
      "[566]\ttrain-rmse:167.482\ttest-rmse:178.458\n",
      "[567]\ttrain-rmse:167.423\ttest-rmse:178.452\n",
      "[568]\ttrain-rmse:167.373\ttest-rmse:178.433\n",
      "[569]\ttrain-rmse:167.325\ttest-rmse:178.425\n",
      "[570]\ttrain-rmse:167.278\ttest-rmse:178.428\n",
      "[571]\ttrain-rmse:167.225\ttest-rmse:178.417\n",
      "[572]\ttrain-rmse:167.174\ttest-rmse:178.403\n",
      "[573]\ttrain-rmse:167.126\ttest-rmse:178.385\n",
      "[574]\ttrain-rmse:167.069\ttest-rmse:178.361\n"
     ]
    },
    {
     "name": "stdout",
     "output_type": "stream",
     "text": [
      "[575]\ttrain-rmse:167.024\ttest-rmse:178.357\n",
      "[576]\ttrain-rmse:166.978\ttest-rmse:178.342\n",
      "[577]\ttrain-rmse:166.92\ttest-rmse:178.328\n",
      "[578]\ttrain-rmse:166.871\ttest-rmse:178.306\n",
      "[579]\ttrain-rmse:166.824\ttest-rmse:178.303\n",
      "[580]\ttrain-rmse:166.773\ttest-rmse:178.308\n",
      "[581]\ttrain-rmse:166.716\ttest-rmse:178.305\n",
      "[582]\ttrain-rmse:166.662\ttest-rmse:178.298\n",
      "[583]\ttrain-rmse:166.605\ttest-rmse:178.31\n",
      "[584]\ttrain-rmse:166.553\ttest-rmse:178.314\n",
      "[585]\ttrain-rmse:166.498\ttest-rmse:178.309\n",
      "[586]\ttrain-rmse:166.452\ttest-rmse:178.299\n",
      "[587]\ttrain-rmse:166.403\ttest-rmse:178.283\n",
      "[588]\ttrain-rmse:166.349\ttest-rmse:178.276\n",
      "[589]\ttrain-rmse:166.301\ttest-rmse:178.262\n",
      "[590]\ttrain-rmse:166.242\ttest-rmse:178.252\n",
      "[591]\ttrain-rmse:166.193\ttest-rmse:178.212\n",
      "[592]\ttrain-rmse:166.144\ttest-rmse:178.203\n",
      "[593]\ttrain-rmse:166.097\ttest-rmse:178.208\n",
      "[594]\ttrain-rmse:166.051\ttest-rmse:178.217\n",
      "[595]\ttrain-rmse:166\ttest-rmse:178.21\n",
      "[596]\ttrain-rmse:165.948\ttest-rmse:178.192\n",
      "[597]\ttrain-rmse:165.9\ttest-rmse:178.18\n",
      "[598]\ttrain-rmse:165.844\ttest-rmse:178.16\n",
      "[599]\ttrain-rmse:165.79\ttest-rmse:178.16\n",
      "[600]\ttrain-rmse:165.745\ttest-rmse:178.145\n",
      "[601]\ttrain-rmse:165.69\ttest-rmse:178.133\n",
      "[602]\ttrain-rmse:165.642\ttest-rmse:178.126\n",
      "[603]\ttrain-rmse:165.59\ttest-rmse:178.122\n",
      "[604]\ttrain-rmse:165.547\ttest-rmse:178.106\n",
      "[605]\ttrain-rmse:165.5\ttest-rmse:178.11\n",
      "[606]\ttrain-rmse:165.451\ttest-rmse:178.102\n",
      "[607]\ttrain-rmse:165.4\ttest-rmse:178.092\n",
      "[608]\ttrain-rmse:165.354\ttest-rmse:178.086\n",
      "[609]\ttrain-rmse:165.308\ttest-rmse:178.103\n",
      "[610]\ttrain-rmse:165.26\ttest-rmse:178.109\n",
      "[611]\ttrain-rmse:165.215\ttest-rmse:178.106\n",
      "[612]\ttrain-rmse:165.161\ttest-rmse:178.112\n",
      "[613]\ttrain-rmse:165.12\ttest-rmse:178.096\n",
      "[614]\ttrain-rmse:165.07\ttest-rmse:178.092\n",
      "[615]\ttrain-rmse:165.024\ttest-rmse:178.106\n",
      "[616]\ttrain-rmse:164.973\ttest-rmse:178.11\n",
      "[617]\ttrain-rmse:164.937\ttest-rmse:178.091\n",
      "[618]\ttrain-rmse:164.893\ttest-rmse:178.074\n",
      "[619]\ttrain-rmse:164.839\ttest-rmse:178.073\n",
      "[620]\ttrain-rmse:164.793\ttest-rmse:178.075\n",
      "[621]\ttrain-rmse:164.74\ttest-rmse:178.072\n",
      "[622]\ttrain-rmse:164.698\ttest-rmse:178.056\n",
      "[623]\ttrain-rmse:164.655\ttest-rmse:178.043\n",
      "[624]\ttrain-rmse:164.609\ttest-rmse:178.059\n",
      "[625]\ttrain-rmse:164.56\ttest-rmse:178.029\n",
      "[626]\ttrain-rmse:164.518\ttest-rmse:178.025\n",
      "[627]\ttrain-rmse:164.472\ttest-rmse:178.019\n",
      "[628]\ttrain-rmse:164.42\ttest-rmse:178.013\n",
      "[629]\ttrain-rmse:164.378\ttest-rmse:178.019\n",
      "[630]\ttrain-rmse:164.333\ttest-rmse:178.007\n",
      "[631]\ttrain-rmse:164.283\ttest-rmse:178.001\n",
      "[632]\ttrain-rmse:164.24\ttest-rmse:177.994\n",
      "[633]\ttrain-rmse:164.193\ttest-rmse:177.998\n",
      "[634]\ttrain-rmse:164.15\ttest-rmse:177.982\n",
      "[635]\ttrain-rmse:164.103\ttest-rmse:177.967\n",
      "[636]\ttrain-rmse:164.056\ttest-rmse:177.979\n",
      "[637]\ttrain-rmse:164.003\ttest-rmse:177.971\n",
      "[638]\ttrain-rmse:163.954\ttest-rmse:177.987\n",
      "[639]\ttrain-rmse:163.904\ttest-rmse:177.965\n",
      "[640]\ttrain-rmse:163.861\ttest-rmse:177.96\n",
      "[641]\ttrain-rmse:163.815\ttest-rmse:177.96\n",
      "[642]\ttrain-rmse:163.776\ttest-rmse:177.961\n",
      "[643]\ttrain-rmse:163.732\ttest-rmse:177.952\n",
      "[644]\ttrain-rmse:163.695\ttest-rmse:177.939\n",
      "[645]\ttrain-rmse:163.651\ttest-rmse:177.923\n",
      "[646]\ttrain-rmse:163.607\ttest-rmse:177.91\n",
      "[647]\ttrain-rmse:163.554\ttest-rmse:177.921\n",
      "[648]\ttrain-rmse:163.508\ttest-rmse:177.908\n",
      "[649]\ttrain-rmse:163.469\ttest-rmse:177.919\n",
      "[650]\ttrain-rmse:163.428\ttest-rmse:177.904\n",
      "[651]\ttrain-rmse:163.381\ttest-rmse:177.897\n",
      "[652]\ttrain-rmse:163.337\ttest-rmse:177.891\n",
      "[653]\ttrain-rmse:163.284\ttest-rmse:177.902\n",
      "[654]\ttrain-rmse:163.244\ttest-rmse:177.902\n",
      "[655]\ttrain-rmse:163.199\ttest-rmse:177.902\n",
      "[656]\ttrain-rmse:163.157\ttest-rmse:177.902\n",
      "[657]\ttrain-rmse:163.118\ttest-rmse:177.915\n",
      "[658]\ttrain-rmse:163.071\ttest-rmse:177.897\n",
      "[659]\ttrain-rmse:163.028\ttest-rmse:177.898\n",
      "[660]\ttrain-rmse:162.987\ttest-rmse:177.902\n",
      "[661]\ttrain-rmse:162.943\ttest-rmse:177.903\n",
      "[662]\ttrain-rmse:162.898\ttest-rmse:177.905\n",
      "[663]\ttrain-rmse:162.86\ttest-rmse:177.906\n",
      "[664]\ttrain-rmse:162.821\ttest-rmse:177.911\n",
      "[665]\ttrain-rmse:162.792\ttest-rmse:177.904\n",
      "[666]\ttrain-rmse:162.739\ttest-rmse:177.897\n",
      "[667]\ttrain-rmse:162.693\ttest-rmse:177.882\n",
      "[668]\ttrain-rmse:162.656\ttest-rmse:177.864\n",
      "[669]\ttrain-rmse:162.615\ttest-rmse:177.849\n",
      "[670]\ttrain-rmse:162.575\ttest-rmse:177.843\n",
      "[671]\ttrain-rmse:162.526\ttest-rmse:177.852\n",
      "[672]\ttrain-rmse:162.489\ttest-rmse:177.841\n",
      "[673]\ttrain-rmse:162.453\ttest-rmse:177.837\n",
      "[674]\ttrain-rmse:162.408\ttest-rmse:177.834\n",
      "[675]\ttrain-rmse:162.37\ttest-rmse:177.833\n",
      "[676]\ttrain-rmse:162.324\ttest-rmse:177.824\n",
      "[677]\ttrain-rmse:162.287\ttest-rmse:177.824\n",
      "[678]\ttrain-rmse:162.24\ttest-rmse:177.829\n",
      "[679]\ttrain-rmse:162.196\ttest-rmse:177.828\n",
      "[680]\ttrain-rmse:162.159\ttest-rmse:177.827\n",
      "[681]\ttrain-rmse:162.118\ttest-rmse:177.828\n",
      "[682]\ttrain-rmse:162.078\ttest-rmse:177.823\n",
      "[683]\ttrain-rmse:162.042\ttest-rmse:177.834\n",
      "[684]\ttrain-rmse:161.996\ttest-rmse:177.841\n",
      "[685]\ttrain-rmse:161.951\ttest-rmse:177.844\n",
      "[686]\ttrain-rmse:161.91\ttest-rmse:177.829\n",
      "[687]\ttrain-rmse:161.871\ttest-rmse:177.827\n",
      "[688]\ttrain-rmse:161.833\ttest-rmse:177.82\n",
      "[689]\ttrain-rmse:161.785\ttest-rmse:177.829\n",
      "[690]\ttrain-rmse:161.748\ttest-rmse:177.845\n",
      "[691]\ttrain-rmse:161.712\ttest-rmse:177.834\n",
      "[692]\ttrain-rmse:161.679\ttest-rmse:177.823\n",
      "[693]\ttrain-rmse:161.642\ttest-rmse:177.825\n",
      "[694]\ttrain-rmse:161.598\ttest-rmse:177.82\n",
      "[695]\ttrain-rmse:161.558\ttest-rmse:177.816\n",
      "[696]\ttrain-rmse:161.518\ttest-rmse:177.804\n",
      "[697]\ttrain-rmse:161.484\ttest-rmse:177.793\n",
      "[698]\ttrain-rmse:161.448\ttest-rmse:177.795\n",
      "[699]\ttrain-rmse:161.409\ttest-rmse:177.812\n",
      "[700]\ttrain-rmse:161.373\ttest-rmse:177.78\n",
      "[701]\ttrain-rmse:161.337\ttest-rmse:177.772\n",
      "[702]\ttrain-rmse:161.3\ttest-rmse:177.768\n",
      "[703]\ttrain-rmse:161.265\ttest-rmse:177.78\n",
      "[704]\ttrain-rmse:161.226\ttest-rmse:177.789\n",
      "[705]\ttrain-rmse:161.189\ttest-rmse:177.759\n",
      "[706]\ttrain-rmse:161.149\ttest-rmse:177.736\n",
      "[707]\ttrain-rmse:161.117\ttest-rmse:177.738\n",
      "[708]\ttrain-rmse:161.08\ttest-rmse:177.731\n",
      "[709]\ttrain-rmse:161.041\ttest-rmse:177.74\n",
      "[710]\ttrain-rmse:161.007\ttest-rmse:177.742\n",
      "[711]\ttrain-rmse:160.967\ttest-rmse:177.745\n",
      "[712]\ttrain-rmse:160.929\ttest-rmse:177.729\n",
      "[713]\ttrain-rmse:160.893\ttest-rmse:177.721\n",
      "[714]\ttrain-rmse:160.85\ttest-rmse:177.732\n",
      "[715]\ttrain-rmse:160.808\ttest-rmse:177.724\n",
      "[716]\ttrain-rmse:160.775\ttest-rmse:177.72\n",
      "[717]\ttrain-rmse:160.734\ttest-rmse:177.723\n",
      "[718]\ttrain-rmse:160.697\ttest-rmse:177.717\n",
      "[719]\ttrain-rmse:160.657\ttest-rmse:177.734\n",
      "[720]\ttrain-rmse:160.615\ttest-rmse:177.747\n",
      "[721]\ttrain-rmse:160.583\ttest-rmse:177.746\n",
      "[722]\ttrain-rmse:160.547\ttest-rmse:177.738\n",
      "[723]\ttrain-rmse:160.513\ttest-rmse:177.728\n",
      "[724]\ttrain-rmse:160.476\ttest-rmse:177.734\n",
      "[725]\ttrain-rmse:160.442\ttest-rmse:177.729\n",
      "[726]\ttrain-rmse:160.409\ttest-rmse:177.719\n",
      "[727]\ttrain-rmse:160.364\ttest-rmse:177.738\n",
      "[728]\ttrain-rmse:160.332\ttest-rmse:177.741\n",
      "[729]\ttrain-rmse:160.295\ttest-rmse:177.727\n",
      "[730]\ttrain-rmse:160.264\ttest-rmse:177.741\n",
      "[731]\ttrain-rmse:160.218\ttest-rmse:177.757\n",
      "[732]\ttrain-rmse:160.182\ttest-rmse:177.764\n",
      "[733]\ttrain-rmse:160.14\ttest-rmse:177.763\n",
      "[734]\ttrain-rmse:160.105\ttest-rmse:177.786\n",
      "[735]\ttrain-rmse:160.067\ttest-rmse:177.799\n",
      "[736]\ttrain-rmse:160.03\ttest-rmse:177.803\n",
      "[737]\ttrain-rmse:159.995\ttest-rmse:177.796\n",
      "[738]\ttrain-rmse:159.963\ttest-rmse:177.801\n",
      "[739]\ttrain-rmse:159.923\ttest-rmse:177.779\n",
      "[740]\ttrain-rmse:159.875\ttest-rmse:177.786\n",
      "[741]\ttrain-rmse:159.844\ttest-rmse:177.778\n",
      "[742]\ttrain-rmse:159.811\ttest-rmse:177.786\n",
      "[743]\ttrain-rmse:159.776\ttest-rmse:177.789\n",
      "[744]\ttrain-rmse:159.739\ttest-rmse:177.782\n",
      "[745]\ttrain-rmse:159.704\ttest-rmse:177.776\n",
      "[746]\ttrain-rmse:159.668\ttest-rmse:177.782\n",
      "[747]\ttrain-rmse:159.633\ttest-rmse:177.774\n",
      "[748]\ttrain-rmse:159.6\ttest-rmse:177.775\n",
      "Stopping. Best iteration:\n",
      "[718]\ttrain-rmse:160.697\ttest-rmse:177.717\n",
      "\n"
     ]
    }
   ],
   "source": [
    "model = xgb.train(params,train_,num_boost_round=1000 ,evals=watchlist,early_stopping_rounds=30)"
   ]
  },
  {
   "cell_type": "code",
   "execution_count": 33,
   "metadata": {},
   "outputs": [],
   "source": [
    "score=model.get_score()\n",
    "\n",
    "impt=pd.DataFrame()\n",
    "impt['name']=score.keys()\n",
    "impt['importance']=score.values()\n",
    "\n",
    "impt=impt.sort_values(by ='importance',axis=0,ascending=False)\n",
    "impt.reset_index(drop=True,inplace=True)"
   ]
  },
  {
   "cell_type": "code",
   "execution_count": 34,
   "metadata": {},
   "outputs": [
    {
     "data": {
      "text/plain": [
       "0                        num_1\n",
       "1                          num\n",
       "2                        num_0\n",
       "3                      min_num\n",
       "4                   rank_num_1\n",
       "5                       TR_6.0\n",
       "6                       TR_5.0\n",
       "7                     rank_num\n",
       "8                   rank_num_0\n",
       "9      emission_standards_id_1\n",
       "                ...           \n",
       "304        if_luxurious_id_1_0\n",
       "305        cylinder_number_0_1\n",
       "306         price_level_42.5_0\n",
       "307             brand_id_106_0\n",
       "308         displacement_2.3_1\n",
       "309        newenergy_type_id_2\n",
       "310      rated_passenger_7.5_1\n",
       "311         displacement_1.3_1\n",
       "312        rated_passenger_6.5\n",
       "313           price_level_62.5\n",
       "Name: name, Length: 314, dtype: object"
      ]
     },
     "execution_count": 34,
     "metadata": {},
     "output_type": "execute_result"
    }
   ],
   "source": [
    "impt['name']"
   ]
  },
  {
   "cell_type": "code",
   "execution_count": 48,
   "metadata": {},
   "outputs": [],
   "source": [
    "xrg=xgb.XGBRegressor(max_depth=6,learning_rate=0.02,\n",
    "n_estimators=700,nthread=-1,gamma=0.1,colsample_bytree=1,\n",
    "            subsample=0.8,reg_alpha=1, reg_lambda=500,\n",
    "missing=-999,colsample_bylevel=1)"
   ]
  },
  {
   "cell_type": "code",
   "execution_count": 49,
   "metadata": {},
   "outputs": [
    {
     "name": "stdout",
     "output_type": "stream",
     "text": [
      "223.1030372102202\n",
      "168.49706517757465\n",
      "173.1951621894777\n",
      "205.40728782071386\n",
      "193.11111725064652\n",
      "181.66675454437737\n",
      "206.7175455545946\n",
      "177.3249830446248\n",
      "196.4779361034474\n",
      "169.46817168885636\n",
      "mean error    189.49690605845336\n"
     ]
    }
   ],
   "source": [
    "k,err=cv_function(xrg,ou2[impt['name']].iloc[:5314].fillna(-999),label,ou2[impt['name']].iloc[5314:].fillna(-999),n=10)"
   ]
  },
  {
   "cell_type": "code",
   "execution_count": 50,
   "metadata": {},
   "outputs": [],
   "source": [
    "err1=[1/a for a in err]\n",
    "err1=err1/sum(err1)\n",
    "\n",
    "out=[k[i]*err1[i] for i in range(len(k))]\n",
    "\n",
    "out=sum(out)\n",
    "clas['predict_quantity']=out"
   ]
  },
  {
   "cell_type": "code",
   "execution_count": 51,
   "metadata": {},
   "outputs": [],
   "source": [
    "result=pd.merge(test.drop('predict_quantity',axis=1),clas,on='class_id',how='left')"
   ]
  },
  {
   "cell_type": "code",
   "execution_count": 52,
   "metadata": {},
   "outputs": [],
   "source": [
    "result.to_csv('result_lam_500_300.csv',index=False)"
   ]
  },
  {
   "cell_type": "code",
   "execution_count": null,
   "metadata": {},
   "outputs": [],
   "source": []
  },
  {
   "cell_type": "code",
   "execution_count": 77,
   "metadata": {},
   "outputs": [
    {
     "data": {
      "text/plain": [
       "<matplotlib.axes._subplots.AxesSubplot at 0x7f1ad636d908>"
      ]
     },
     "execution_count": 77,
     "metadata": {},
     "output_type": "execute_result"
    },
    {
     "data": {
      "image/png": "[encoded data removed]",
      "text/plain": [
       "<matplotlib.figure.Figure at 0x7f1ad63f6e48>"
      ]
     },
     "metadata": {},
     "output_type": "display_data"
    }
   ],
   "source": [
    "sns.distplot(out)"
   ]
  },
  {
   "cell_type": "code",
   "execution_count": null,
   "metadata": {},
   "outputs": [],
   "source": []
  },
  {
   "cell_type": "code",
   "execution_count": null,
   "metadata": {},
   "outputs": [],
   "source": []
  },
  {
   "cell_type": "code",
   "execution_count": null,
   "metadata": {},
   "outputs": [],
   "source": [
    "label[label>3000]"
   ]
  },
  {
   "cell_type": "code",
   "execution_count": null,
   "metadata": {},
   "outputs": [],
   "source": [
    "sns.distplot(label)"
   ]
  },
  {
   "cell_type": "code",
   "execution_count": null,
   "metadata": {},
   "outputs": [],
   "source": [
    "sns.distplot(result['predict_quantity'])"
   ]
  },
  {
   "cell_type": "code",
   "execution_count": null,
   "metadata": {},
   "outputs": [],
   "source": [
    "sns.distplot(tra['num_x'].dropna())"
   ]
  },
  {
   "cell_type": "code",
   "execution_count": null,
   "metadata": {},
   "outputs": [],
   "source": [
    "sns.distplot(tra['num_y'].dropna())"
   ]
  },
  {
   "cell_type": "code",
   "execution_count": null,
   "metadata": {},
   "outputs": [],
   "source": [
    "ou[impt['name']].fillna(-999)"
   ]
  },
  {
   "cell_type": "code",
   "execution_count": null,
   "metadata": {},
   "outputs": [],
   "source": [
    "ou[3].shape"
   ]
  },
  {
   "cell_type": "code",
   "execution_count": null,
   "metadata": {},
   "outputs": [],
   "source": [
    "tra.info()"
   ]
  },
  {
   "cell_type": "code",
   "execution_count": null,
   "metadata": {},
   "outputs": [],
   "source": [
    "ou['num'].rank()"
   ]
  },
  {
   "cell_type": "code",
   "execution_count": null,
   "metadata": {},
   "outputs": [],
   "source": [
    "obj = pd.Series([7,-5,7,4,2,0,4])\n",
    "print (obj.rank(method='max'))"
   ]
  },
  {
   "cell_type": "code",
   "execution_count": null,
   "metadata": {},
   "outputs": [],
   "source": [
    "\n",
    "col=list(ou.columns)\n",
    "l=[b.startswith('num') for b in col ]"
   ]
  },
  {
   "cell_type": "code",
   "execution_count": null,
   "metadata": {},
   "outputs": [],
   "source": [
    "ou.columns[l]"
   ]
  },
  {
   "cell_type": "code",
   "execution_count": null,
   "metadata": {},
   "outputs": [],
   "source": [
    "np.min(ou1,axis=1)"
   ]
  },
  {
   "cell_type": "code",
   "execution_count": null,
   "metadata": {},
   "outputs": [],
   "source": [
    "ou1.shape"
   ]
  },
  {
   "cell_type": "code",
   "execution_count": 21,
   "metadata": {},
   "outputs": [
    {
     "data": {
      "text/plain": [
       "<matplotlib.axes._subplots.AxesSubplot at 0x7f51eca6a780>"
      ]
     },
     "execution_count": 21,
     "metadata": {},
     "output_type": "execute_result"
    },
    {
     "data": {
      "image/png": "[encoded data removed]",
      "text/plain": [
       "<matplotlib.figure.Figure at 0x7f51eca6a208>"
      ]
     },
     "metadata": {},
     "output_type": "display_data"
    }
   ],
   "source": [
    "sns.distplot(ou['label'])"
   ]
  },
  {
   "cell_type": "code",
   "execution_count": null,
   "metadata": {},
   "outputs": [],
   "source": []
  }
 ],
 "metadata": {
  "kernelspec": {
   "display_name": "Python 3",
   "language": "python",
   "name": "python3"
  },
  "language_info": {
   "codemirror_mode": {
    "name": "ipython",
    "version": 3
   },
   "file_extension": ".py",
   "mimetype": "text/x-python",
   "name": "python",
   "nbconvert_exporter": "python",
   "pygments_lexer": "ipython3",
   "version": "3.5.2"
  }
 },
 "nbformat": 4,
 "nbformat_minor": 2
}
